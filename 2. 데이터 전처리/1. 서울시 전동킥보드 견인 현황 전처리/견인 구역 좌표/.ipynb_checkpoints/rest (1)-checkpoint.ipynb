{
 "cells": [
  {
   "cell_type": "code",
   "execution_count": null,
   "metadata": {
    "id": "giTWzODrBGoU"
   },
   "outputs": [],
   "source": [
    "import csv\n",
    "import pandas as pd\n",
    "import requests\n",
    "import json\n"
   ]
  },
  {
   "cell_type": "code",
   "execution_count": null,
   "metadata": {
    "id": "daXA2h3LA5AK"
   },
   "outputs": [],
   "source": []
  },
  {
   "cell_type": "markdown",
   "metadata": {
    "id": "xCzuR_MzBKsc"
   },
   "source": [
    "**카카오에서 저공하는 geocoding 서비스를 함수로 지정하여  사용**\n",
    "\n"
   ]
  },
  {
   "cell_type": "code",
   "execution_count": null,
   "metadata": {
    "colab": {
     "base_uri": "https://localhost:8080/",
     "height": 424
    },
    "id": "mtxMjv5zESfN",
    "outputId": "a76c991a-8e5f-4a88-f488-f52ea62204a0"
   },
   "outputs": [
    {
     "data": {
      "text/html": [
       "\n",
       "  <div id=\"df-678dfb02-36b3-4c6b-9888-ab0432f5b664\">\n",
       "    <div class=\"colab-df-container\">\n",
       "      <div>\n",
       "<style scoped>\n",
       "    .dataframe tbody tr th:only-of-type {\n",
       "        vertical-align: middle;\n",
       "    }\n",
       "\n",
       "    .dataframe tbody tr th {\n",
       "        vertical-align: top;\n",
       "    }\n",
       "\n",
       "    .dataframe thead th {\n",
       "        text-align: right;\n",
       "    }\n",
       "</style>\n",
       "<table border=\"1\" class=\"dataframe\">\n",
       "  <thead>\n",
       "    <tr style=\"text-align: right;\">\n",
       "      <th></th>\n",
       "      <th>번호</th>\n",
       "      <th>신고일</th>\n",
       "      <th>구정보</th>\n",
       "      <th>주소</th>\n",
       "      <th>유형</th>\n",
       "      <th>조치일</th>\n",
       "    </tr>\n",
       "  </thead>\n",
       "  <tbody>\n",
       "    <tr>\n",
       "      <th>0</th>\n",
       "      <td>1</td>\n",
       "      <td>2021-07-15</td>\n",
       "      <td>동작구</td>\n",
       "      <td>서울특별시 동작구 상도동 215-45</td>\n",
       "      <td>점자블록, 엘리베이터 입구</td>\n",
       "      <td>2021-07-15</td>\n",
       "    </tr>\n",
       "    <tr>\n",
       "      <th>1</th>\n",
       "      <td>2</td>\n",
       "      <td>2021-07-15</td>\n",
       "      <td>동작구</td>\n",
       "      <td>서울특별시 동작구 상도동 172-28</td>\n",
       "      <td>보도 중앙</td>\n",
       "      <td>2021-07-15</td>\n",
       "    </tr>\n",
       "    <tr>\n",
       "      <th>2</th>\n",
       "      <td>3</td>\n",
       "      <td>2021-07-15</td>\n",
       "      <td>동작구</td>\n",
       "      <td>서울특별시 동작구 대방동 356-2</td>\n",
       "      <td>버스정류장, 택시 승강장</td>\n",
       "      <td>2021-07-15</td>\n",
       "    </tr>\n",
       "    <tr>\n",
       "      <th>3</th>\n",
       "      <td>4</td>\n",
       "      <td>2021-07-15</td>\n",
       "      <td>동작구</td>\n",
       "      <td>서울특별시 동작구 대방동 354-1</td>\n",
       "      <td>버스정류장, 택시 승강장</td>\n",
       "      <td>2021-07-15</td>\n",
       "    </tr>\n",
       "    <tr>\n",
       "      <th>4</th>\n",
       "      <td>5</td>\n",
       "      <td>2021-07-15</td>\n",
       "      <td>동작구</td>\n",
       "      <td>서울특별시 동작구 신대방동 460-30</td>\n",
       "      <td>보도와 차도가 구분된 도로의 차도</td>\n",
       "      <td>2021-07-15</td>\n",
       "    </tr>\n",
       "    <tr>\n",
       "      <th>...</th>\n",
       "      <td>...</td>\n",
       "      <td>...</td>\n",
       "      <td>...</td>\n",
       "      <td>...</td>\n",
       "      <td>...</td>\n",
       "      <td>...</td>\n",
       "    </tr>\n",
       "    <tr>\n",
       "      <th>60600</th>\n",
       "      <td>60601</td>\n",
       "      <td>2022-07-29</td>\n",
       "      <td>동작구</td>\n",
       "      <td>서울특별시 동작구 사당동 708-1025</td>\n",
       "      <td>보도와 차도가 구분된 도로의 차도</td>\n",
       "      <td>2022-07-29</td>\n",
       "    </tr>\n",
       "    <tr>\n",
       "      <th>60601</th>\n",
       "      <td>60602</td>\n",
       "      <td>2022-07-29</td>\n",
       "      <td>관악구</td>\n",
       "      <td>서울특별시 관악구 봉천동 1693-55</td>\n",
       "      <td>보도와 차도가 구분된 도로의 차도</td>\n",
       "      <td>2022-07-29</td>\n",
       "    </tr>\n",
       "    <tr>\n",
       "      <th>60602</th>\n",
       "      <td>60603</td>\n",
       "      <td>2022-07-29</td>\n",
       "      <td>동작구</td>\n",
       "      <td>서울특별시 동작구 사당동 175-56</td>\n",
       "      <td>보도와 차도가 구분된 도로의 차도</td>\n",
       "      <td>2022-07-29</td>\n",
       "    </tr>\n",
       "    <tr>\n",
       "      <th>60603</th>\n",
       "      <td>60604</td>\n",
       "      <td>2022-07-29</td>\n",
       "      <td>동작구</td>\n",
       "      <td>서울특별시 동작구 사당동 175-26</td>\n",
       "      <td>보도와 차도가 구분된 도로의 차도</td>\n",
       "      <td>2022-07-29</td>\n",
       "    </tr>\n",
       "    <tr>\n",
       "      <th>60604</th>\n",
       "      <td>60605</td>\n",
       "      <td>2022-07-29</td>\n",
       "      <td>중랑구</td>\n",
       "      <td>서울특별시 중랑구 면목동 197-10</td>\n",
       "      <td>보도와 차도가 구분된 도로의 차도</td>\n",
       "      <td>2022-07-29</td>\n",
       "    </tr>\n",
       "  </tbody>\n",
       "</table>\n",
       "<p>60605 rows × 6 columns</p>\n",
       "</div>\n",
       "      <button class=\"colab-df-convert\" onclick=\"convertToInteractive('df-678dfb02-36b3-4c6b-9888-ab0432f5b664')\"\n",
       "              title=\"Convert this dataframe to an interactive table.\"\n",
       "              style=\"display:none;\">\n",
       "        \n",
       "  <svg xmlns=\"http://www.w3.org/2000/svg\" height=\"24px\"viewBox=\"0 0 24 24\"\n",
       "       width=\"24px\">\n",
       "    <path d=\"M0 0h24v24H0V0z\" fill=\"none\"/>\n",
       "    <path d=\"M18.56 5.44l.94 2.06.94-2.06 2.06-.94-2.06-.94-.94-2.06-.94 2.06-2.06.94zm-11 1L8.5 8.5l.94-2.06 2.06-.94-2.06-.94L8.5 2.5l-.94 2.06-2.06.94zm10 10l.94 2.06.94-2.06 2.06-.94-2.06-.94-.94-2.06-.94 2.06-2.06.94z\"/><path d=\"M17.41 7.96l-1.37-1.37c-.4-.4-.92-.59-1.43-.59-.52 0-1.04.2-1.43.59L10.3 9.45l-7.72 7.72c-.78.78-.78 2.05 0 2.83L4 21.41c.39.39.9.59 1.41.59.51 0 1.02-.2 1.41-.59l7.78-7.78 2.81-2.81c.8-.78.8-2.07 0-2.86zM5.41 20L4 18.59l7.72-7.72 1.47 1.35L5.41 20z\"/>\n",
       "  </svg>\n",
       "      </button>\n",
       "      \n",
       "  <style>\n",
       "    .colab-df-container {\n",
       "      display:flex;\n",
       "      flex-wrap:wrap;\n",
       "      gap: 12px;\n",
       "    }\n",
       "\n",
       "    .colab-df-convert {\n",
       "      background-color: #E8F0FE;\n",
       "      border: none;\n",
       "      border-radius: 50%;\n",
       "      cursor: pointer;\n",
       "      display: none;\n",
       "      fill: #1967D2;\n",
       "      height: 32px;\n",
       "      padding: 0 0 0 0;\n",
       "      width: 32px;\n",
       "    }\n",
       "\n",
       "    .colab-df-convert:hover {\n",
       "      background-color: #E2EBFA;\n",
       "      box-shadow: 0px 1px 2px rgba(60, 64, 67, 0.3), 0px 1px 3px 1px rgba(60, 64, 67, 0.15);\n",
       "      fill: #174EA6;\n",
       "    }\n",
       "\n",
       "    [theme=dark] .colab-df-convert {\n",
       "      background-color: #3B4455;\n",
       "      fill: #D2E3FC;\n",
       "    }\n",
       "\n",
       "    [theme=dark] .colab-df-convert:hover {\n",
       "      background-color: #434B5C;\n",
       "      box-shadow: 0px 1px 3px 1px rgba(0, 0, 0, 0.15);\n",
       "      filter: drop-shadow(0px 1px 2px rgba(0, 0, 0, 0.3));\n",
       "      fill: #FFFFFF;\n",
       "    }\n",
       "  </style>\n",
       "\n",
       "      <script>\n",
       "        const buttonEl =\n",
       "          document.querySelector('#df-678dfb02-36b3-4c6b-9888-ab0432f5b664 button.colab-df-convert');\n",
       "        buttonEl.style.display =\n",
       "          google.colab.kernel.accessAllowed ? 'block' : 'none';\n",
       "\n",
       "        async function convertToInteractive(key) {\n",
       "          const element = document.querySelector('#df-678dfb02-36b3-4c6b-9888-ab0432f5b664');\n",
       "          const dataTable =\n",
       "            await google.colab.kernel.invokeFunction('convertToInteractive',\n",
       "                                                     [key], {});\n",
       "          if (!dataTable) return;\n",
       "\n",
       "          const docLinkHtml = 'Like what you see? Visit the ' +\n",
       "            '<a target=\"_blank\" href=https://colab.research.google.com/notebooks/data_table.ipynb>data table notebook</a>'\n",
       "            + ' to learn more about interactive tables.';\n",
       "          element.innerHTML = '';\n",
       "          dataTable['output_type'] = 'display_data';\n",
       "          await google.colab.output.renderOutput(dataTable, element);\n",
       "          const docLink = document.createElement('div');\n",
       "          docLink.innerHTML = docLinkHtml;\n",
       "          element.appendChild(docLink);\n",
       "        }\n",
       "      </script>\n",
       "    </div>\n",
       "  </div>\n",
       "  "
      ],
      "text/plain": [
       "          번호         신고일  구정보                      주소                  유형  \\\n",
       "0          1  2021-07-15  동작구    서울특별시 동작구 상도동 215-45      점자블록, 엘리베이터 입구   \n",
       "1          2  2021-07-15  동작구    서울특별시 동작구 상도동 172-28               보도 중앙   \n",
       "2          3  2021-07-15  동작구     서울특별시 동작구 대방동 356-2       버스정류장, 택시 승강장   \n",
       "3          4  2021-07-15  동작구     서울특별시 동작구 대방동 354-1       버스정류장, 택시 승강장   \n",
       "4          5  2021-07-15  동작구   서울특별시 동작구 신대방동 460-30  보도와 차도가 구분된 도로의 차도   \n",
       "...      ...         ...  ...                     ...                 ...   \n",
       "60600  60601  2022-07-29  동작구  서울특별시 동작구 사당동 708-1025  보도와 차도가 구분된 도로의 차도   \n",
       "60601  60602  2022-07-29  관악구   서울특별시 관악구 봉천동 1693-55  보도와 차도가 구분된 도로의 차도   \n",
       "60602  60603  2022-07-29  동작구    서울특별시 동작구 사당동 175-56  보도와 차도가 구분된 도로의 차도   \n",
       "60603  60604  2022-07-29  동작구    서울특별시 동작구 사당동 175-26  보도와 차도가 구분된 도로의 차도   \n",
       "60604  60605  2022-07-29  중랑구    서울특별시 중랑구 면목동 197-10  보도와 차도가 구분된 도로의 차도   \n",
       "\n",
       "              조치일  \n",
       "0      2021-07-15  \n",
       "1      2021-07-15  \n",
       "2      2021-07-15  \n",
       "3      2021-07-15  \n",
       "4      2021-07-15  \n",
       "...           ...  \n",
       "60600  2022-07-29  \n",
       "60601  2022-07-29  \n",
       "60602  2022-07-29  \n",
       "60603  2022-07-29  \n",
       "60604  2022-07-29  \n",
       "\n",
       "[60605 rows x 6 columns]"
      ]
     },
     "execution_count": 26,
     "metadata": {},
     "output_type": "execute_result"
    }
   ],
   "source": [
    "\n",
    "def addr_to_lat_lon(addr):\n",
    "    url = 'https://dapi.kakao.com/v2/local/search/address.json?query={address}'.format(address=addr)\n",
    "    headers = {\"Authorization\": \"KakaoAK \" + 'c7eeec233835734c4abd0cd0b441950b'}\n",
    "    result = json.loads(str(requests.get(url, headers=headers).text))\n",
    "    match_first = result['documents'][0]['address']\n",
    "    return float(match_first['x']), float(match_first['y'])\n"
   ]
  },
  {
   "cell_type": "markdown",
   "metadata": {
    "id": "YJb0gE3fAthY"
   },
   "source": [
    "**데이터 불러오기**"
   ]
  },
  {
   "cell_type": "code",
   "execution_count": null,
   "metadata": {
    "id": "Z04X-t_E_yoB"
   },
   "outputs": [],
   "source": [
    "read_data = pd.read_csv('/content/drive/MyDrive/data/서울특별시_전동킥보드_견인_현황_20220731.csv',encoding = 'cp949')\n",
    "read_data\n"
   ]
  },
  {
   "cell_type": "markdown",
   "metadata": {
    "id": "GAmr361ZA_ib"
   },
   "source": [
    "**서울시 전동킥보드 견인현황 데이터의 지벚주소를 좌표값으로 변환**\n",
    "\n",
    "**결측치는 결측된값 프린트 후 (1,1)로 리스트에 저장**"
   ]
  },
  {
   "cell_type": "code",
   "execution_count": null,
   "metadata": {
    "colab": {
     "base_uri": "https://localhost:8080/"
    },
    "id": "jmfkTAPL2wz0",
    "outputId": "d2aabe48-9014-421a-9416-49125e3388da"
   },
   "outputs": [
    {
     "name": "stdout",
     "output_type": "stream",
     "text": [
      "error 30047\n",
      "error 30090\n",
      "error 30186\n",
      "error 30311\n",
      "error 30444\n",
      "error 30473\n",
      "error 30590\n",
      "error 30605\n",
      "error 31164\n",
      "error 31172\n",
      "error 31359\n",
      "error 31394\n",
      "error 31914\n",
      "error 31918\n",
      "error 32227\n",
      "error 32603\n",
      "error 32609\n",
      "error 32724\n",
      "error 32841\n",
      "error 32857\n",
      "error 32861\n",
      "error 33452\n",
      "error 33538\n",
      "error 33676\n",
      "error 33689\n",
      "error 33735\n",
      "error 33755\n",
      "error 34599\n",
      "error 34609\n",
      "error 34914\n",
      "error 34917\n",
      "error 35120\n",
      "error 35320\n",
      "error 35651\n",
      "error 35944\n",
      "error 35972\n",
      "error 35984\n",
      "error 35987\n",
      "error 36074\n",
      "error 36084\n",
      "error 36173\n",
      "error 36202\n",
      "error 36740\n",
      "error 36969\n",
      "error 36983\n",
      "error 37635\n",
      "error 37636\n",
      "error 37745\n",
      "error 37812\n",
      "error 37837\n",
      "error 38015\n",
      "error 38033\n",
      "error 38039\n",
      "error 38055\n",
      "error 38200\n",
      "error 38205\n",
      "error 38457\n",
      "error 38555\n",
      "error 38564\n",
      "error 38570\n",
      "error 38574\n",
      "error 38575\n",
      "error 38581\n",
      "error 38677\n",
      "error 38849\n",
      "error 39497\n",
      "error 39501\n",
      "error 39955\n",
      "error 39992\n",
      "error 39998\n",
      "error 40366\n",
      "error 40369\n",
      "error 40447\n",
      "error 40453\n",
      "error 40473\n",
      "error 40645\n",
      "error 40649\n",
      "error 40905\n",
      "error 40915\n",
      "error 40923\n",
      "error 41773\n",
      "error 41905\n",
      "error 41914\n",
      "error 41919\n",
      "error 42000\n",
      "error 42026\n",
      "error 42162\n",
      "error 42211\n",
      "error 42215\n",
      "error 42276\n",
      "error 42312\n",
      "error 42336\n",
      "error 42340\n",
      "error 42458\n",
      "error 42464\n",
      "error 42514\n",
      "error 42516\n",
      "error 42718\n",
      "error 42730\n",
      "error 42876\n",
      "error 42946\n",
      "error 42950\n",
      "error 42968\n",
      "error 42991\n",
      "error 42993\n",
      "error 42999\n",
      "error 43172\n",
      "error 43178\n",
      "error 43214\n",
      "error 43215\n",
      "error 43218\n",
      "error 43410\n",
      "error 43413\n",
      "error 43445\n",
      "error 43528\n",
      "error 44034\n",
      "error 44146\n",
      "error 44299\n",
      "error 44533\n",
      "error 44537\n",
      "error 44639\n",
      "error 44643\n",
      "error 44793\n",
      "error 44796\n",
      "error 44800\n",
      "error 44888\n",
      "error 44890\n",
      "error 44896\n",
      "error 44900\n",
      "error 45080\n",
      "error 45154\n",
      "error 45263\n",
      "error 45387\n",
      "error 45393\n",
      "error 45401\n",
      "error 45464\n",
      "error 45569\n",
      "error 45715\n",
      "error 46725\n",
      "error 46735\n",
      "error 46741\n",
      "error 46748\n",
      "error 47200\n",
      "error 47325\n",
      "error 47540\n",
      "error 47542\n",
      "error 47551\n",
      "error 47617\n",
      "error 47750\n",
      "error 47779\n",
      "error 47797\n",
      "error 48000\n",
      "error 48009\n",
      "error 48163\n",
      "error 48211\n",
      "error 48325\n",
      "error 48460\n",
      "error 48462\n",
      "error 48465\n",
      "error 48546\n",
      "error 48609\n",
      "error 48815\n",
      "error 48845\n",
      "error 48897\n",
      "error 49088\n",
      "error 49130\n",
      "error 49176\n",
      "error 49260\n",
      "error 49263\n",
      "error 49497\n",
      "error 49524\n",
      "error 49527\n",
      "error 49529\n",
      "error 49530\n",
      "error 49548\n",
      "error 49551\n",
      "error 49997\n"
     ]
    }
   ],
   "source": [
    "df_list=[]\n",
    "for i in range(60605) :\n",
    " try :\n",
    "    latlng = addr_to_lat_lon(read_data['주소'][i])\n",
    "    df_list.append(latlng)\n",
    "    \n",
    " except :\n",
    "    print('error', i)\n",
    "    latlng = (1,1)\n",
    "    df_list.append(latlng)\n",
    "  \n",
    "df = pd.DataFrame(df_list)\n",
    "df.to_csv('end.csv')"
   ]
  },
  {
   "cell_type": "markdown",
   "metadata": {
    "id": "9BjBcgbCA-qq"
   },
   "source": [
    "**지오코딩을 임포트하여 결손된값 다시 변환**"
   ]
  },
  {
   "cell_type": "code",
   "execution_count": null,
   "metadata": {
    "id": "HDsTpTMsBoTz"
   },
   "outputs": [],
   "source": [
    "from geopy.geocoders import Nominatim\n",
    "\n",
    "def geocoding(address):\n",
    "    geolocoder = Nominatim(user_agent = 'South Korea', timeout=None)\n",
    "    geo = geolocoder.geocode(address)\n",
    "    crd = [str(geo.latitude),str(geo.longitude)]\n",
    "\n",
    "    return crd\n"
   ]
  },
  {
   "cell_type": "code",
   "execution_count": null,
   "metadata": {
    "id": "z6xeF0HUADWc"
   },
   "outputs": [],
   "source": [
    "x= pd.read_csv(\"/content/drive/MyDrive/data/end.csv\",)"
   ]
  },
  {
   "cell_type": "code",
   "execution_count": null,
   "metadata": {
    "id": "lIeg17dtADbq"
   },
   "outputs": [],
   "source": [
    "x1=x.drop('Unnamed: 0', axis=1)"
   ]
  },
  {
   "cell_type": "code",
   "execution_count": null,
   "metadata": {
    "id": "Z1wHwu-EADhN"
   },
   "outputs": [],
   "source": [
    "x2=x1[x1['0']==1]"
   ]
  },
  {
   "cell_type": "code",
   "execution_count": null,
   "metadata": {
    "id": "25NDjTrvADmU"
   },
   "outputs": [],
   "source": [
    "y=x2.index"
   ]
  },
  {
   "cell_type": "code",
   "execution_count": null,
   "metadata": {
    "id": "Z4njF6s_ADqu"
   },
   "outputs": [],
   "source": [
    "y_list =[]\n",
    "for i in range(515) :\n",
    " try :\n",
    "    latlng = geocoding(read_data['주소'][y[i]])\n",
    "    y_list.append(latlng)\n",
    "    \n",
    " except :\n",
    "    print('error', i)\n",
    "    latlng = (1,1)\n",
    "    y_list.append(latlng)\n",
    "  \n"
   ]
  },
  {
   "cell_type": "code",
   "execution_count": null,
   "metadata": {
    "id": "5FpZ8PH7JO2S"
   },
   "outputs": [],
   "source": [
    "x3 = x1.values.tolist()"
   ]
  },
  {
   "cell_type": "code",
   "execution_count": null,
   "metadata": {
    "id": "JGffDb6YJO7B"
   },
   "outputs": [],
   "source": [
    "for i in range(515):\n",
    "  x3[y[i]] = y_list[i]"
   ]
  },
  {
   "cell_type": "code",
   "execution_count": null,
   "metadata": {
    "id": "ZzB83DABJO9X"
   },
   "outputs": [],
   "source": [
    "x4 = pd.DataFrame(x3)"
   ]
  },
  {
   "cell_type": "code",
   "execution_count": null,
   "metadata": {
    "id": "JRfzkdyyJO_l"
   },
   "outputs": [],
   "source": [
    "x4.to_csv('end2.csv')"
   ]
  },
  {
   "cell_type": "code",
   "execution_count": null,
   "metadata": {
    "colab": {
     "base_uri": "https://localhost:8080/"
    },
    "id": "LRsWi_DRgEf8",
    "outputId": "06dd8ab7-e51f-4b2b-ff59-102feef81056"
   },
   "outputs": [
    {
     "name": "stdout",
     "output_type": "stream",
     "text": [
      "Drive already mounted at /content/drive; to attempt to forcibly remount, call drive.mount(\"/content/drive\", force_remount=True).\n"
     ]
    }
   ],
   "source": [
    "from google.colab import drive\n",
    "drive.mount('/content/drive')"
   ]
  }
 ],
 "metadata": {
  "colab": {
   "machine_shape": "hm",
   "provenance": []
  },
  "gpuClass": "standard",
  "kernelspec": {
   "display_name": "Python 3 (ipykernel)",
   "language": "python",
   "name": "python3"
  },
  "language_info": {
   "codemirror_mode": {
    "name": "ipython",
    "version": 3
   },
   "file_extension": ".py",
   "mimetype": "text/x-python",
   "name": "python",
   "nbconvert_exporter": "python",
   "pygments_lexer": "ipython3",
   "version": "3.9.12"
  }
 },
 "nbformat": 4,
 "nbformat_minor": 1
}
