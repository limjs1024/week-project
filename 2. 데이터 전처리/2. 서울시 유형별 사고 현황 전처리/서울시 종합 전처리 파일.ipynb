{
 "cells": [
  {
   "cell_type": "markdown",
   "id": "e0a12c6b",
   "metadata": {},
   "source": [
    "# 서울시 개인형이동장치 사고 현황 전처리"
   ]
  },
  {
   "cell_type": "code",
   "execution_count": 72,
   "id": "8babf507",
   "metadata": {},
   "outputs": [],
   "source": [
    "#필요한 모듈 import\n",
    "import pandas as pd\n",
    "import numpy as np\n",
    "\n",
    "from IPython.core.interactiveshell import InteractiveShell\n",
    "InteractiveShell.ast_node_interactivity=\"all\""
   ]
  },
  {
   "cell_type": "markdown",
   "id": "2261f9bd",
   "metadata": {},
   "source": [
    "## 1. 서울시 월별 개인형이동장치 사고 현황"
   ]
  },
  {
   "cell_type": "markdown",
   "id": "2cbc7941",
   "metadata": {
    "scrolled": true
   },
   "source": [
    "pd.read_excel()로 필요 데이터 불러온 후 데이터 프레임으로 저장. (이때, header= 1 지정하여 컬럼을 월로 설정)"
   ]
  },
  {
   "cell_type": "code",
   "execution_count": 73,
   "id": "ce718b98",
   "metadata": {},
   "outputs": [],
   "source": [
    "month = pd.read_excel('./data/차종별 월별.xls', header = 1)"
   ]
  },
  {
   "cell_type": "markdown",
   "id": "78db497f",
   "metadata": {
    "scrolled": true
   },
   "source": [
    "불러온 데이터프레임 및 info() 확인"
   ]
  },
  {
   "cell_type": "code",
   "execution_count": 74,
   "id": "cbc5f32b",
   "metadata": {
    "scrolled": true
   },
   "outputs": [],
   "source": [
    "#month\n",
    "# month.info()"
   ]
  },
  {
   "cell_type": "markdown",
   "id": "c5e82806",
   "metadata": {},
   "source": [
    "개인형이동장치의 사고 현황을 파악하기 위하여 가해운전자 차종별 컬럼의 속성 값 확인"
   ]
  },
  {
   "cell_type": "code",
   "execution_count": 75,
   "id": "d2333e70",
   "metadata": {},
   "outputs": [
    {
     "data": {
      "text/plain": [
       "array(['합계', '승용차', '승합차', '화물차', '특수차', '이륜차', '사륜오토바이(ATV)', '원동기장치자전거',\n",
       "       '자전거', '개인형이동수단(PM)', '건설기계', '농기계', '기타', '불명', '출처) 도로교통공단.'],\n",
       "      dtype=object)"
      ]
     },
     "execution_count": 75,
     "metadata": {},
     "output_type": "execute_result"
    }
   ],
   "source": [
    "month['가해운전자 차종별 '].unique()"
   ]
  },
  {
   "cell_type": "markdown",
   "id": "5890a343",
   "metadata": {
    "scrolled": true
   },
   "source": [
    "데이터프레임에서 필요한 항목 추출: 가해운전자차종 = 개인형이동장치, 사고건수"
   ]
  },
  {
   "cell_type": "code",
   "execution_count": 76,
   "id": "c3bbb7f2",
   "metadata": {},
   "outputs": [],
   "source": [
    "month = month[month['가해운전자 차종별 '].str.contains('개인형*', na = False) & (month['사고년도'].str.contains('사고건수',na=False))]"
   ]
  },
  {
   "cell_type": "markdown",
   "id": "a539db32",
   "metadata": {},
   "source": [
    "데이터 프레임의 결측치값('-')을 0건으로 변환"
   ]
  },
  {
   "cell_type": "code",
   "execution_count": 77,
   "id": "34056bd9",
   "metadata": {},
   "outputs": [],
   "source": [
    "month = month.replace('-', 0)"
   ]
  },
  {
   "cell_type": "markdown",
   "id": "4599e005",
   "metadata": {},
   "source": [
    "데이터프레임 사고건수 행의 unqiue() 확인"
   ]
  },
  {
   "cell_type": "code",
   "execution_count": 78,
   "id": "84da53ce",
   "metadata": {},
   "outputs": [
    {
     "data": {
      "text/plain": [
       "array(['개인형이동수단(PM)', '사고건수', 29.0, 0, 1, 3, 4, 2, 50.0, 5, 6, 9, 134, 7,\n",
       "       10, 20, 19, 21, 23, 14, 387.0, 12, 31, 33, 46, 41, 64, 48, 18,\n",
       "       445.0, 35.0, 54, 43, 44, 49, 39, 36, 34, 28], dtype=object)"
      ]
     },
     "execution_count": 78,
     "metadata": {},
     "output_type": "execute_result"
    }
   ],
   "source": [
    "month.iloc[0].unique()"
   ]
  },
  {
   "cell_type": "markdown",
   "id": "feeac872",
   "metadata": {
    "scrolled": true
   },
   "source": [
    "데이터 프레임의 재생성 및 컬럼을 변환을 위하여 컬럼 추출"
   ]
  },
  {
   "cell_type": "code",
   "execution_count": 79,
   "id": "a588485f",
   "metadata": {
    "scrolled": true
   },
   "outputs": [
    {
     "data": {
      "text/plain": [
       "Index(['가해운전자 차종별 ', '사고년도', '합계', '01월', '02월', '03월', '04월', '05월', '06월',\n",
       "       '07월', '08월', '09월', '10월', '11월', '12월', '합계.1', '01월.1', '02월.1',\n",
       "       '03월.1', '04월.1', '05월.1', '06월.1', '07월.1', '08월.1', '09월.1', '10월.1',\n",
       "       '11월.1', '12월.1', '합계.2', '01월.2', '02월.2', '03월.2', '04월.2', '05월.2',\n",
       "       '06월.2', '07월.2', '08월.2', '09월.2', '10월.2', '11월.2', '12월.2', '합계.3',\n",
       "       '01월.3', '02월.3', '03월.3', '04월.3', '05월.3', '06월.3', '07월.3', '08월.3',\n",
       "       '09월.3', '10월.3', '11월.3', '12월.3', '합계.4', '01월.4', '02월.4', '03월.4',\n",
       "       '04월.4', '05월.4', '06월.4', '07월.4', '08월.4', '09월.4', '10월.4', '11월.4',\n",
       "       '12월.4'],\n",
       "      dtype='object')"
      ]
     },
     "execution_count": 79,
     "metadata": {},
     "output_type": "execute_result"
    }
   ],
   "source": [
    "month.columns"
   ]
  },
  {
   "cell_type": "markdown",
   "id": "b696175a",
   "metadata": {},
   "source": [
    "년도 별 데이터프레임 재생성"
   ]
  },
  {
   "cell_type": "code",
   "execution_count": 80,
   "id": "5f1acf73",
   "metadata": {},
   "outputs": [],
   "source": [
    "month_2017 = month[['01월', '02월', '03월', '04월', '05월', '06월','07월', '08월', '09월', '10월', '11월', '12월']]\n",
    "month_2018 = month[['01월.1', '02월.1','03월.1', '04월.1', '05월.1', '06월.1', '07월.1', '08월.1', '09월.1', '10월.1','11월.1', '12월.1']]\n",
    "month_2019 = month[['01월.2', '02월.2','03월.2', '04월.2', '05월.2','06월.2', '07월.2', '08월.2', '09월.2', '10월.2', '11월.2', '12월.2']]\n",
    "month_2020 = month[['01월.3', '02월.3','03월.3', '04월.3', '05월.3', '06월.3', '07월.3', '08월.3','09월.3', '10월.3', '11월.3', '12월.3']]\n",
    "month_2021 = month[['01월.4', '02월.4','03월.4','04월.4', '05월.4', '06월.4', '07월.4', '08월.4', '09월.4', '10월.4', '11월.4','12월.4']]"
   ]
  },
  {
   "cell_type": "markdown",
   "id": "7c614e3d",
   "metadata": {},
   "source": [
    "index를 년도로 설정"
   ]
  },
  {
   "cell_type": "code",
   "execution_count": 81,
   "id": "06b46126",
   "metadata": {},
   "outputs": [],
   "source": [
    "month_2017.index = ['2017년']\n",
    "month_2018.index = ['2018년']\n",
    "month_2019.index = ['2019년']\n",
    "month_2020.index = ['2020년']\n",
    "month_2021.index = ['2021년']"
   ]
  },
  {
   "cell_type": "markdown",
   "id": "f327a385",
   "metadata": {
    "scrolled": true
   },
   "source": [
    "2018년~2021년까지의 데이터 프레임 컬럼 이름만 올바르게 재설정"
   ]
  },
  {
   "cell_type": "code",
   "execution_count": 82,
   "id": "833adc34",
   "metadata": {
    "scrolled": true
   },
   "outputs": [],
   "source": [
    "month_2018.columns = ['01월', '02월', '03월', '04월', '05월', '06월','07월', '08월', '09월', '10월', '11월', '12월']\n",
    "month_2019.columns = ['01월', '02월', '03월', '04월', '05월', '06월','07월', '08월', '09월', '10월', '11월', '12월']\n",
    "month_2020.columns = ['01월', '02월', '03월', '04월', '05월', '06월','07월', '08월', '09월', '10월', '11월', '12월']\n",
    "month_2021.columns = ['01월', '02월', '03월', '04월', '05월', '06월','07월', '08월', '09월', '10월', '11월', '12월']"
   ]
  },
  {
   "cell_type": "markdown",
   "id": "f4e89695",
   "metadata": {},
   "source": [
    "5개 년도의 데이터 프레임을 종합하여 하나의 데이터 프레임으로 결합"
   ]
  },
  {
   "cell_type": "code",
   "execution_count": 83,
   "id": "e0033310",
   "metadata": {},
   "outputs": [],
   "source": [
    "month = pd.concat([month_2017,month_2018,month_2019,month_2020,month_2021], axis=0)"
   ]
  },
  {
   "cell_type": "code",
   "execution_count": 84,
   "id": "99c6a14d",
   "metadata": {},
   "outputs": [],
   "source": [
    "#월이 index로 설정되도록 데이터프레임 전환\n",
    "month_total=month.T"
   ]
  },
  {
   "cell_type": "markdown",
   "id": "53fb9cda",
   "metadata": {},
   "source": [
    "index 이름 설정"
   ]
  },
  {
   "cell_type": "code",
   "execution_count": 85,
   "id": "a4c0624c",
   "metadata": {},
   "outputs": [],
   "source": [
    "month_total.index.name = '월별'"
   ]
  },
  {
   "cell_type": "markdown",
   "id": "3f9606e1",
   "metadata": {},
   "source": [
    "데이터프레임을 csv로 저장"
   ]
  },
  {
   "cell_type": "code",
   "execution_count": 86,
   "id": "fd08688b",
   "metadata": {},
   "outputs": [],
   "source": [
    "month_total.to_csv(\"./data/month_total.csv\")"
   ]
  },
  {
   "cell_type": "markdown",
   "id": "a4cbb9ef",
   "metadata": {},
   "source": [
    "## 2. 서울시 요일별 개인형이동장치 사고 현황"
   ]
  },
  {
   "cell_type": "markdown",
   "id": "7d5cb17b",
   "metadata": {
    "scrolled": true
   },
   "source": [
    "pd.read_excel()로 필요 데이터 불러온 후 데이터 프레임으로 저장(이때, header= 1 지정하여 컬럼을 요일로 설정)"
   ]
  },
  {
   "cell_type": "code",
   "execution_count": 87,
   "id": "0d7b97e6",
   "metadata": {},
   "outputs": [],
   "source": [
    "day = pd.read_excel('./data/차종별 요일별.xls', header=1)"
   ]
  },
  {
   "cell_type": "markdown",
   "id": "5bb9c363",
   "metadata": {
    "scrolled": true
   },
   "source": [
    "불러온 데이터프레임 및 info()확인"
   ]
  },
  {
   "cell_type": "code",
   "execution_count": 88,
   "id": "358eec67",
   "metadata": {
    "scrolled": true
   },
   "outputs": [],
   "source": [
    "# day\n",
    "# day.info()"
   ]
  },
  {
   "cell_type": "markdown",
   "id": "fd1ee9d0",
   "metadata": {
    "scrolled": false
   },
   "source": [
    "개인형이동장치의 사고 현황을 파악하기 위하여 가해운전자 차종별 컬럼의 속성 값 확인"
   ]
  },
  {
   "cell_type": "code",
   "execution_count": 89,
   "id": "772d62a6",
   "metadata": {
    "scrolled": false
   },
   "outputs": [
    {
     "data": {
      "text/plain": [
       "array(['합계', '승용차', '승합차', '화물차', '특수차', '이륜차', '사륜오토바이(ATV)', '원동기장치자전거',\n",
       "       '자전거', '개인형이동수단(PM)', '건설기계', '농기계', '기타', '불명', nan], dtype=object)"
      ]
     },
     "execution_count": 89,
     "metadata": {},
     "output_type": "execute_result"
    }
   ],
   "source": [
    "day['가해운전자 차종별 '].unique()"
   ]
  },
  {
   "cell_type": "markdown",
   "id": "738535d3",
   "metadata": {},
   "source": [
    "데이터프레임에서 필요한 항목 추출: 가해운전자차종 = 개인형이동장치, 사고건수"
   ]
  },
  {
   "cell_type": "code",
   "execution_count": 90,
   "id": "08cef755",
   "metadata": {},
   "outputs": [],
   "source": [
    "day1 = day[day['가해운전자 차종별 '].str.contains('개인형*', na = False) & (day['사고년도'].str.contains('사고건수',na=False))]"
   ]
  },
  {
   "cell_type": "markdown",
   "id": "e685e3be",
   "metadata": {},
   "source": [
    "데이터 프레임의 재생성 및 컬럼을 변환을 위하여 컬럼 추출"
   ]
  },
  {
   "cell_type": "code",
   "execution_count": 91,
   "id": "24ab41ad",
   "metadata": {},
   "outputs": [
    {
     "data": {
      "text/plain": [
       "Index(['가해운전자 차종별 ', '사고년도', '합계', '일', '월', '화', '수', '목', '금', '토', '합계.1',\n",
       "       '일.1', '월.1', '화.1', '수.1', '목.1', '금.1', '토.1', '합계.2', '일.2', '월.2',\n",
       "       '화.2', '수.2', '목.2', '금.2', '토.2', '합계.3', '일.3', '월.3', '화.3', '수.3',\n",
       "       '목.3', '금.3', '토.3', '합계.4', '일.4', '월.4', '화.4', '수.4', '목.4', '금.4',\n",
       "       '토.4'],\n",
       "      dtype='object')"
      ]
     },
     "execution_count": 91,
     "metadata": {},
     "output_type": "execute_result"
    }
   ],
   "source": [
    "day1.columns"
   ]
  },
  {
   "cell_type": "markdown",
   "id": "17ad415d",
   "metadata": {},
   "source": [
    "년도 별 데이터프레임 재생성"
   ]
  },
  {
   "cell_type": "code",
   "execution_count": 92,
   "id": "987039e1",
   "metadata": {},
   "outputs": [],
   "source": [
    "day1_2017 = day1[['월', '화', '수', '목', '금', '토','일']]\n",
    "day1_2018 = day1[['월.1', '화.1', '수.1', '목.1', '금.1', '토.1','일.1']]\n",
    "day1_2019 = day1[['월.2','화.2', '수.2', '목.2', '금.2', '토.2','일.2']]\n",
    "day1_2020 = day1[['월.3', '화.3', '수.3','목.3', '금.3', '토.3','일.3']]\n",
    "day1_2021 = day1[['월.4', '화.4', '수.4', '목.4', '금.4','토.4','일.4']]"
   ]
  },
  {
   "cell_type": "markdown",
   "id": "96e27a5b",
   "metadata": {},
   "source": [
    "index를 년도로 설정"
   ]
  },
  {
   "cell_type": "code",
   "execution_count": 93,
   "id": "644fa616",
   "metadata": {},
   "outputs": [],
   "source": [
    "day1_2017.index = ['2017년']\n",
    "day1_2018.index = ['2018년']\n",
    "day1_2019.index = ['2019년']\n",
    "day1_2020.index = ['2020년']\n",
    "day1_2021.index = ['2021년']"
   ]
  },
  {
   "cell_type": "markdown",
   "id": "9ddea8a4",
   "metadata": {},
   "source": [
    "2018년~2021년까지의 데이터 프레임 컬럼 이름만 올바르게 재설정"
   ]
  },
  {
   "cell_type": "code",
   "execution_count": 94,
   "id": "4fd61fd9",
   "metadata": {},
   "outputs": [],
   "source": [
    "day1_2018.columns = ['월', '화', '수', '목', '금', '토','일']\n",
    "day1_2019.columns = ['월', '화', '수', '목', '금', '토','일']\n",
    "day1_2020.columns = ['월', '화', '수', '목', '금', '토','일']\n",
    "day1_2021.columns = ['월', '화', '수', '목', '금', '토','일']"
   ]
  },
  {
   "cell_type": "markdown",
   "id": "6c3d5f52",
   "metadata": {},
   "source": [
    "5개 년도의 데이터 프레임을 종합하여 하나의 데이터 프레임으로 결합"
   ]
  },
  {
   "cell_type": "code",
   "execution_count": 95,
   "id": "995ecef4",
   "metadata": {},
   "outputs": [],
   "source": [
    "day=pd.concat([day1_2017, day1_2018, day1_2019, day1_2020, day1_2021])"
   ]
  },
  {
   "cell_type": "markdown",
   "id": "0df7b863",
   "metadata": {},
   "source": [
    "요일이 index로 설정되도록 데이터프레임 전환"
   ]
  },
  {
   "cell_type": "code",
   "execution_count": 96,
   "id": "bc04d6fd",
   "metadata": {},
   "outputs": [],
   "source": [
    "day_total=day.T"
   ]
  },
  {
   "cell_type": "markdown",
   "id": "d0439f58",
   "metadata": {},
   "source": [
    "데이터프레임을 csv로 저장"
   ]
  },
  {
   "cell_type": "code",
   "execution_count": 97,
   "id": "5252c14e",
   "metadata": {},
   "outputs": [],
   "source": [
    "day_total.to_csv(\"./data/day_total.csv\")"
   ]
  },
  {
   "cell_type": "markdown",
   "id": "58551844",
   "metadata": {},
   "source": [
    "## 3. 서울시 시간별 개인형이동장치 사고 현황"
   ]
  },
  {
   "cell_type": "markdown",
   "id": "c3dc235d",
   "metadata": {
    "scrolled": true
   },
   "source": [
    "pd.read_excel()로 필요 데이터 불러온 후 데이터 프레임으로 저장(이때, header= 1 지정하여 컬럼을 시간으로 설정)"
   ]
  },
  {
   "cell_type": "code",
   "execution_count": 98,
   "id": "4ad029c6",
   "metadata": {},
   "outputs": [],
   "source": [
    "hour = pd.read_excel('./data/차종별 시간별.xls',header=1)"
   ]
  },
  {
   "cell_type": "markdown",
   "id": "d0fcf671",
   "metadata": {
    "scrolled": true
   },
   "source": [
    "불러온 데이터프레임 및 info()확인"
   ]
  },
  {
   "cell_type": "code",
   "execution_count": 99,
   "id": "9ff49a15",
   "metadata": {},
   "outputs": [],
   "source": [
    "# hour\n",
    "# hour.info()"
   ]
  },
  {
   "cell_type": "code",
   "execution_count": 100,
   "id": "9f553c2f",
   "metadata": {},
   "outputs": [
    {
     "data": {
      "text/plain": [
       "Index(['가해운전자 차종별 ', '사고년도', '합계', '00시-02시', '02시-04시', '04시-06시', '06시-08시',\n",
       "       '08시-10시', '10시-12시', '12시-14시', '14시-16시', '16시-18시', '18시-20시',\n",
       "       '20시-22시', '22시-24시', '합계.1', '00시-02시.1', '02시-04시.1', '04시-06시.1',\n",
       "       '06시-08시.1', '08시-10시.1', '10시-12시.1', '12시-14시.1', '14시-16시.1',\n",
       "       '16시-18시.1', '18시-20시.1', '20시-22시.1', '22시-24시.1', '합계.2', '00시-02시.2',\n",
       "       '02시-04시.2', '04시-06시.2', '06시-08시.2', '08시-10시.2', '10시-12시.2',\n",
       "       '12시-14시.2', '14시-16시.2', '16시-18시.2', '18시-20시.2', '20시-22시.2',\n",
       "       '22시-24시.2', '합계.3', '00시-02시.3', '02시-04시.3', '04시-06시.3', '06시-08시.3',\n",
       "       '08시-10시.3', '10시-12시.3', '12시-14시.3', '14시-16시.3', '16시-18시.3',\n",
       "       '18시-20시.3', '20시-22시.3', '22시-24시.3', '합계.4', '00시-02시.4', '02시-04시.4',\n",
       "       '04시-06시.4', '06시-08시.4', '08시-10시.4', '10시-12시.4', '12시-14시.4',\n",
       "       '14시-16시.4', '16시-18시.4', '18시-20시.4', '20시-22시.4', '22시-24시.4'],\n",
       "      dtype='object')"
      ]
     },
     "execution_count": 100,
     "metadata": {},
     "output_type": "execute_result"
    }
   ],
   "source": [
    "hour.columns"
   ]
  },
  {
   "cell_type": "markdown",
   "id": "2870ad02",
   "metadata": {
    "scrolled": true
   },
   "source": [
    "개인형이동장치의 사고 현황을 파악하기 위하여 가해운전자 차종별 컬럼의 속성 값 확인"
   ]
  },
  {
   "cell_type": "code",
   "execution_count": 101,
   "id": "558cd18f",
   "metadata": {
    "scrolled": true
   },
   "outputs": [
    {
     "data": {
      "text/plain": [
       "array(['합계', '승용차', '승합차', '화물차', '특수차', '이륜차', '사륜오토바이(ATV)', '원동기장치자전거',\n",
       "       '자전거', '개인형이동수단(PM)', '건설기계', '농기계', '기타', '불명', nan], dtype=object)"
      ]
     },
     "execution_count": 101,
     "metadata": {},
     "output_type": "execute_result"
    }
   ],
   "source": [
    "hour['가해운전자 차종별 '].unique()"
   ]
  },
  {
   "cell_type": "markdown",
   "id": "1c2697fa",
   "metadata": {},
   "source": [
    "데이터프레임에서 필요한 항목 추출: 가해운전자차종 = 개인형이동장치, 사고건수"
   ]
  },
  {
   "cell_type": "code",
   "execution_count": 102,
   "id": "1775ef5d",
   "metadata": {},
   "outputs": [],
   "source": [
    "hour = hour[hour['가해운전자 차종별 '].str.contains('개인형*', na = False) & (hour['사고년도'].str.contains('사고건수',na=False))]"
   ]
  },
  {
   "cell_type": "markdown",
   "id": "c4b1c3dc",
   "metadata": {},
   "source": [
    "데이터 프레임의 결측치값('-')을 0건으로 변환"
   ]
  },
  {
   "cell_type": "code",
   "execution_count": 103,
   "id": "58bc7578",
   "metadata": {},
   "outputs": [
    {
     "data": {
      "text/plain": [
       "array(['개인형이동수단(PM)', '사고건수', 29.0, 0, 1, 4, 7, 2, 3, 50.0, 8, 5, 9, 6,\n",
       "       134, 21, 15, 16, 18, 13, 387.0, 36, 11, 14, 32, 24, 56, 59, 42, 46,\n",
       "       445.0, 10, 49, 41, 44, 72, 70], dtype=object)"
      ]
     },
     "execution_count": 103,
     "metadata": {},
     "output_type": "execute_result"
    }
   ],
   "source": [
    "hour = hour.replace('-', 0)\n",
    "hour.iloc[0].unique()"
   ]
  },
  {
   "cell_type": "markdown",
   "id": "af204f09",
   "metadata": {},
   "source": [
    "년도 별 데이터프레임 재생성"
   ]
  },
  {
   "cell_type": "code",
   "execution_count": 104,
   "id": "785750f0",
   "metadata": {},
   "outputs": [],
   "source": [
    "year_2017 = hour[['00시-02시', '02시-04시', '04시-06시', '06시-08시','08시-10시', '10시-12시',\n",
    "             '12시-14시', '14시-16시', '16시-18시', '18시-20시','20시-22시', '22시-24시']]\n",
    "year_2018 = hour[['00시-02시.1', '02시-04시.1', '04시-06시.1', '06시-08시.1', '08시-10시.1',\n",
    "                  '10시-12시.1', '12시-14시.1', '14시-16시.1',\n",
    "                    '16시-18시.1', '18시-20시.1', '20시-22시.1', '22시-24시.1']]\n",
    "year_2019 = hour[['00시-02시.2','02시-04시.2', '04시-06시.2', '06시-08시.2', \n",
    "                  '08시-10시.2', '10시-12시.2','12시-14시.2', '14시-16시.2', \n",
    "                  '16시-18시.2', '18시-20시.2', '20시-22시.2','22시-24시.2']]\n",
    "year_2020 = hour[['00시-02시.3', '02시-04시.3', '04시-06시.3', '06시-08시.3',\n",
    "                  '08시-10시.3', '10시-12시.3', '12시-14시.3', '14시-16시.3', '16시-18시.3',\n",
    "                    '18시-20시.3', '20시-22시.3', '22시-24시.3']]\n",
    "year_2021 = hour[['00시-02시.4', '02시-04시.4',\n",
    "       '04시-06시.4', '06시-08시.4', '08시-10시.4', '10시-12시.4', '12시-14시.4',\n",
    "       '14시-16시.4', '16시-18시.4', '18시-20시.4', '20시-22시.4', '22시-24시.4']]"
   ]
  },
  {
   "cell_type": "markdown",
   "id": "dab15956",
   "metadata": {},
   "source": [
    "시간이 index로 설정되도록 행렬 전환"
   ]
  },
  {
   "cell_type": "code",
   "execution_count": 105,
   "id": "ac17d7d2",
   "metadata": {},
   "outputs": [],
   "source": [
    "year_2017 = year_2017.T\n",
    "year_2018 = year_2018.T\n",
    "year_2019 = year_2019.T\n",
    "year_2020 = year_2020.T\n",
    "year_2021 = year_2021.T"
   ]
  },
  {
   "cell_type": "markdown",
   "id": "40150e0f",
   "metadata": {},
   "source": [
    "index를 동일하게 설정하기 위해 index_list 생성"
   ]
  },
  {
   "cell_type": "code",
   "execution_count": 106,
   "id": "604166fd",
   "metadata": {},
   "outputs": [],
   "source": [
    "index_list =['00시-02시', '02시-04시', '04시-06시', '06시-08시','08시-10시', '10시-12시',\n",
    "             '12시-14시', '14시-16시', '16시-18시', '18시-20시','20시-22시', '22시-24시']"
   ]
  },
  {
   "cell_type": "markdown",
   "id": "e54754ea",
   "metadata": {},
   "source": [
    "index 재설정"
   ]
  },
  {
   "cell_type": "code",
   "execution_count": 107,
   "id": "68ac0144",
   "metadata": {},
   "outputs": [],
   "source": [
    "year_2018.index = index_list\n",
    "year_2019.index = index_list\n",
    "year_2020.index = index_list\n",
    "year_2021.index = index_list"
   ]
  },
  {
   "cell_type": "markdown",
   "id": "a665d5ed",
   "metadata": {
    "scrolled": true
   },
   "source": [
    " 5개 년도의 데이터 프레임을 종합하여 하나의 데이터 프레임으로 결합"
   ]
  },
  {
   "cell_type": "code",
   "execution_count": 108,
   "id": "b0cabe7e",
   "metadata": {},
   "outputs": [],
   "source": [
    "year_total = pd.concat([year_2017,year_2018,year_2019,year_2020,year_2021],axis=1)"
   ]
  },
  {
   "cell_type": "markdown",
   "id": "710157d3",
   "metadata": {
    "scrolled": true
   },
   "source": [
    "컬럼 이름 설정"
   ]
  },
  {
   "cell_type": "code",
   "execution_count": 109,
   "id": "5efbc61b",
   "metadata": {
    "scrolled": true
   },
   "outputs": [],
   "source": [
    "year_total.columns=['2017','2018','2019','2020','2021']"
   ]
  },
  {
   "cell_type": "markdown",
   "id": "6f48f98d",
   "metadata": {},
   "source": [
    "데이터프레임을 csv로 저장"
   ]
  },
  {
   "cell_type": "code",
   "execution_count": 110,
   "id": "c2472a65",
   "metadata": {},
   "outputs": [],
   "source": [
    "year_total.to_csv(\"./data/year_total.csv\")"
   ]
  },
  {
   "cell_type": "markdown",
   "id": "4d43d7b1",
   "metadata": {},
   "source": [
    "## 4. 서울시 보호구에 따른 개인형이동장치 사고 현황"
   ]
  },
  {
   "cell_type": "markdown",
   "id": "d144dbed",
   "metadata": {},
   "source": [
    "pd.read_excel()로 필요 데이터 불러온 후 데이터 프레임으로 저장 (이때, header= 1 지정하여 컬럼 설정)"
   ]
  },
  {
   "cell_type": "code",
   "execution_count": 111,
   "id": "3f4d9872",
   "metadata": {},
   "outputs": [],
   "source": [
    "helmet = pd.read_excel('./data/보호구 착용.xls', header=1)"
   ]
  },
  {
   "cell_type": "markdown",
   "id": "c4dbabe3",
   "metadata": {},
   "source": [
    "불러온 데이터프레임 및 unique()값 확인"
   ]
  },
  {
   "cell_type": "code",
   "execution_count": 112,
   "id": "8b8bb80c",
   "metadata": {},
   "outputs": [],
   "source": [
    "# helmet\n",
    "# helmet.columns.unique()"
   ]
  },
  {
   "cell_type": "markdown",
   "id": "3d11d96a",
   "metadata": {},
   "source": [
    "필요한 데이터를 추출하기 위해 행렬 전환 후, 첫번째 행을 컬럼으로 변환"
   ]
  },
  {
   "cell_type": "code",
   "execution_count": 113,
   "id": "b9f9f5b3",
   "metadata": {},
   "outputs": [],
   "source": [
    "helmet = helmet.T\n",
    "helmet = helmet.rename(columns=helmet.iloc[0])"
   ]
  },
  {
   "cell_type": "markdown",
   "id": "a4ad898a",
   "metadata": {},
   "source": [
    "변환한 데이터프레임에서 필요한 열만 추출하여 새로운 데이터프레임 생성"
   ]
  },
  {
   "cell_type": "code",
   "execution_count": 114,
   "id": "2d7f4d3b",
   "metadata": {},
   "outputs": [],
   "source": [
    "helmet = helmet[['기준년도','사망자수', '부상자수']]"
   ]
  },
  {
   "cell_type": "markdown",
   "id": "7d436091",
   "metadata": {},
   "source": [
    "컬럼 확인 및 이름 재설정"
   ]
  },
  {
   "cell_type": "code",
   "execution_count": 115,
   "id": "9e416aa1",
   "metadata": {},
   "outputs": [
    {
     "data": {
      "text/plain": [
       "Index(['기준년도', '사망자수', '부상자수'], dtype='object')"
      ]
     },
     "execution_count": 115,
     "metadata": {},
     "output_type": "execute_result"
    }
   ],
   "source": [
    "helmet.columns\n",
    "helmet.columns = ['착용/미착용', '사망자', '부상자']"
   ]
  },
  {
   "cell_type": "markdown",
   "id": "5bc2df3d",
   "metadata": {},
   "source": [
    "착용/미착용 컬럼을 인덱스에서 안전모 추출"
   ]
  },
  {
   "cell_type": "code",
   "execution_count": 116,
   "id": "7eb3ee8e",
   "metadata": {},
   "outputs": [],
   "source": [
    "helmet['index'] = helmet.index\n",
    "helmet = helmet.reset_index(drop=True)\n",
    "helmet = helmet.rename(columns={\"index\": \"안전모\"})"
   ]
  },
  {
   "cell_type": "markdown",
   "id": "ab36f8c2",
   "metadata": {},
   "source": [
    "안전모 컬럼에서 값이 안전모인 행만 추출"
   ]
  },
  {
   "cell_type": "code",
   "execution_count": 117,
   "id": "5c8e6611",
   "metadata": {},
   "outputs": [],
   "source": [
    "helmet_res = helmet[helmet['안전모'].str.contains('안전모', na = False)]"
   ]
  },
  {
   "cell_type": "markdown",
   "id": "141f14f1",
   "metadata": {},
   "source": [
    "안전모 열에서 '착용/미착용'인 행은 추출하고 '착용불명'인 행은 삭제"
   ]
  },
  {
   "cell_type": "code",
   "execution_count": 118,
   "id": "a9bb5541",
   "metadata": {},
   "outputs": [],
   "source": [
    "helmet_res= helmet_res[helmet_res['착용/미착용'].str.contains('착용|미착용')]\n",
    "helmet_res = helmet_res[~helmet_res['착용/미착용'].str.contains('착용불명')]"
   ]
  },
  {
   "cell_type": "markdown",
   "id": "54995ca7",
   "metadata": {},
   "source": [
    "안전모를 착용 여부를 기준으로 데이터 프레임 분리"
   ]
  },
  {
   "cell_type": "code",
   "execution_count": 119,
   "id": "2f51e892",
   "metadata": {},
   "outputs": [],
   "source": [
    "helmet_result1 = helmet_res[(helmet_res['착용/미착용'] == '착용') & (helmet_res['부상자'])]\n",
    "helmet_result2 = helmet_res[(helmet_res['착용/미착용'] == '미착용') & (helmet_res['부상자'])]"
   ]
  },
  {
   "cell_type": "markdown",
   "id": "21406741",
   "metadata": {},
   "source": [
    "Index 재설정"
   ]
  },
  {
   "cell_type": "code",
   "execution_count": 120,
   "id": "834ba741",
   "metadata": {},
   "outputs": [],
   "source": [
    "helmet_result1 = helmet_result1.set_index(helmet_result1['착용/미착용'], drop = True)\n",
    "helmet_result2 = helmet_result2.set_index(helmet_result2['착용/미착용'], drop = True)"
   ]
  },
  {
   "cell_type": "markdown",
   "id": "3a04310b",
   "metadata": {},
   "source": [
    "필요없는 행 삭제"
   ]
  },
  {
   "cell_type": "code",
   "execution_count": 121,
   "id": "306d43a1",
   "metadata": {},
   "outputs": [],
   "source": [
    "helmet_result1=helmet_result1.drop(['안전모','착용/미착용'],axis=1)\n",
    "helmet_result2=helmet_result2.drop(['안전모','착용/미착용'],axis=1)"
   ]
  },
  {
   "cell_type": "markdown",
   "id": "4519b5a6",
   "metadata": {},
   "source": [
    "보호구 착용의 사망자 부상자, 미착용의 사망자 부상자의 합계 추출"
   ]
  },
  {
   "cell_type": "code",
   "execution_count": 122,
   "id": "f87e37f3",
   "metadata": {},
   "outputs": [],
   "source": [
    "helmet_result1.loc['합계']=helmet_result1.sum()\n",
    "helmet_result2.loc['합계']=helmet_result2.sum()"
   ]
  },
  {
   "cell_type": "markdown",
   "id": "849d91c8",
   "metadata": {},
   "source": [
    "착용/미착용이 index를 설정하기 위해 행렬 전환"
   ]
  },
  {
   "cell_type": "code",
   "execution_count": 123,
   "id": "a4e8acf5",
   "metadata": {},
   "outputs": [],
   "source": [
    "helmet_result1=helmet_result1.T\n",
    "helmet_result2=helmet_result2.T"
   ]
  },
  {
   "cell_type": "markdown",
   "id": "957a391e",
   "metadata": {},
   "source": [
    "각 데이터 프레임의 '합계'부분만 추출 후 새로운 데이터 프레임 생성 및 컬럼 이름 재설정"
   ]
  },
  {
   "cell_type": "code",
   "execution_count": 124,
   "id": "24771aa7",
   "metadata": {},
   "outputs": [],
   "source": [
    "res1=helmet_result1[['합계']]\n",
    "res2=helmet_result2[['합계']]\n",
    "res1=res1.rename({'합계':'보호구 착용'},axis=1)\n",
    "res2=res2.rename({'합계':'보호구 미착용'},axis=1)\n",
    "result = pd.concat([res1, res2], axis=1)"
   ]
  },
  {
   "cell_type": "markdown",
   "id": "15c751b6",
   "metadata": {},
   "source": [
    "데이터프레임을 csv로 저장"
   ]
  },
  {
   "cell_type": "code",
   "execution_count": 125,
   "id": "a7c18dc6",
   "metadata": {},
   "outputs": [],
   "source": [
    "result.to_csv(\"./data/result.csv\")"
   ]
  },
  {
   "cell_type": "markdown",
   "id": "93f89497",
   "metadata": {},
   "source": [
    "## 5. 서울시 보호구에 따른 개인형이동장치 사고 현황"
   ]
  },
  {
   "cell_type": "markdown",
   "id": "e443dcef",
   "metadata": {},
   "source": [
    "pd.read_csv()로 필요 데이터 불러온 후 데이터 프레임으로 저장 (이때, header= 1 지정하여 차종별로 컬럼 설정)"
   ]
  },
  {
   "cell_type": "code",
   "execution_count": 126,
   "id": "3510d59f",
   "metadata": {},
   "outputs": [],
   "source": [
    "PM = pd.read_csv('./data/시군구 차종별.csv',  encoding='cp949',header=1)\n",
    "# PM.columns\n",
    "# PM"
   ]
  },
  {
   "cell_type": "markdown",
   "id": "451c92f6",
   "metadata": {},
   "source": [
    "첫 번째 열 제외하여 데이터프레임 추출"
   ]
  },
  {
   "cell_type": "code",
   "execution_count": 127,
   "id": "e4458678",
   "metadata": {},
   "outputs": [],
   "source": [
    "PM=PM[['Unnamed: 1','Unnamed: 2','합계','합계.1','합계.2','합계.3','합계.4','개인형이동수단(PM)','개인형이동수단(PM).1','개인형이동수단(PM).2','개인형이동수단(PM).3','개인형이동수단(PM).4']]"
   ]
  },
  {
   "cell_type": "markdown",
   "id": "b793a7b6",
   "metadata": {},
   "source": [
    "사고 건수만 필요하기 때문에 컬럼의 속성 확인"
   ]
  },
  {
   "cell_type": "code",
   "execution_count": 128,
   "id": "30441350",
   "metadata": {},
   "outputs": [
    {
     "data": {
      "text/plain": [
       "array(['사고건수', '사망자수', '부상자수'], dtype=object)"
      ]
     },
     "execution_count": 128,
     "metadata": {},
     "output_type": "execute_result"
    }
   ],
   "source": [
    "PM['Unnamed: 2'].unique()"
   ]
  },
  {
   "cell_type": "markdown",
   "id": "853008cb",
   "metadata": {},
   "source": [
    "해당 컬럼에서 '사고건수'문자열이 포함된 행만 추출"
   ]
  },
  {
   "cell_type": "code",
   "execution_count": 129,
   "id": "8dc8760f",
   "metadata": {},
   "outputs": [],
   "source": [
    "PM=PM[PM['Unnamed: 2'].str.contains('사고건수',na = False)]"
   ]
  },
  {
   "cell_type": "markdown",
   "id": "67d52b3c",
   "metadata": {},
   "source": [
    "첫번째 열에서 필요없는 속성값('합계')를 가지고 있는 행 제외 및 nan값 0으로 변환"
   ]
  },
  {
   "cell_type": "code",
   "execution_count": 130,
   "id": "2be5951a",
   "metadata": {},
   "outputs": [],
   "source": [
    "PM =PM[(PM['Unnamed: 1'] != '합계')]\n",
    "PM = PM.fillna(0)"
   ]
  },
  {
   "cell_type": "markdown",
   "id": "17f8061e",
   "metadata": {},
   "source": [
    "서울시 25개의 구 이름만 추출하여 새로운 데이터프레임 생성\n",
    "- 이때 서울시에 속해있는 '중구'는 서울 이외의 지역에도 포함되어 있어,\n",
    "  \n",
    "  우선은 제외하고 24개의 구만 추출"
   ]
  },
  {
   "cell_type": "code",
   "execution_count": 131,
   "id": "56921564",
   "metadata": {},
   "outputs": [],
   "source": [
    "PM1=PM[(PM['Unnamed: 1'].str.contains('강서구|양천구|구로구|금천구|영등포구|동작구|관악구|서초구|강남구|송파구|강동구|광진구|성동구|용산구|마포구|서대문구|은평구|종로구|동대문구|성북구|중랑구|강북구|도봉구|노원구'\n",
    "                                    , na = False))]"
   ]
  },
  {
   "cell_type": "markdown",
   "id": "e9a9629c",
   "metadata": {},
   "source": [
    "데이터프레임의 사이즈 및 unique()값 확인"
   ]
  },
  {
   "cell_type": "code",
   "execution_count": 132,
   "id": "0af55c65",
   "metadata": {},
   "outputs": [
    {
     "data": {
      "text/plain": [
       "(50, 12)"
      ]
     },
     "execution_count": 132,
     "metadata": {},
     "output_type": "execute_result"
    },
    {
     "data": {
      "text/plain": [
       "array(['종로구', '용산구', '성동구', '동대문구', '성북구', '도봉구', '은평구', '서대문구', '마포구',\n",
       "       '강서구', '구로구', '영등포구', '동작구', '관악구', '강남구', '강동구', '송파구', '서초구',\n",
       "       '양천구', '중랑구', '노원구', '광진구', '강북구', '금천구'], dtype=object)"
      ]
     },
     "execution_count": 132,
     "metadata": {},
     "output_type": "execute_result"
    }
   ],
   "source": [
    "PM1.shape\n",
    "PM1['Unnamed: 1'].unique()"
   ]
  },
  {
   "cell_type": "markdown",
   "id": "21033f97",
   "metadata": {},
   "source": [
    "중복값 제거 및 데이터프레임의 사이즈 및 unique()값 재확인"
   ]
  },
  {
   "cell_type": "code",
   "execution_count": 133,
   "id": "437baabd",
   "metadata": {},
   "outputs": [
    {
     "data": {
      "text/plain": [
       "array(['종로구', '용산구', '성동구', '동대문구', '성북구', '도봉구', '은평구', '서대문구', '마포구',\n",
       "       '강서구', '구로구', '영등포구', '동작구', '관악구', '강남구', '강동구', '송파구', '서초구',\n",
       "       '양천구', '중랑구', '노원구', '광진구', '강북구', '금천구', '강서구'], dtype=object)"
      ]
     },
     "execution_count": 133,
     "metadata": {},
     "output_type": "execute_result"
    },
    {
     "data": {
      "text/plain": [
       "(25, 12)"
      ]
     },
     "execution_count": 133,
     "metadata": {},
     "output_type": "execute_result"
    }
   ],
   "source": [
    "PM1=PM1.drop_duplicates()\n",
    "PM1['Unnamed: 1'].values#강서구 중복 확인\n",
    "PM1.shape"
   ]
  },
  {
   "cell_type": "markdown",
   "id": "47b0befe",
   "metadata": {},
   "source": [
    "중복된 강서구 값 중 마지막 값만 추출"
   ]
  },
  {
   "cell_type": "code",
   "execution_count": 134,
   "id": "39fd3a14",
   "metadata": {},
   "outputs": [],
   "source": [
    "PM1 = PM1.drop_duplicates(subset='Unnamed: 1',keep='last')"
   ]
  },
  {
   "cell_type": "markdown",
   "id": "9eeb4b6b",
   "metadata": {},
   "source": [
    "서울시 '중구' 값을 추출하기 위하여 중구가 포함된 행 추출 "
   ]
  },
  {
   "cell_type": "code",
   "execution_count": 135,
   "id": "c5669eb1",
   "metadata": {},
   "outputs": [],
   "source": [
    "PM2 = PM[PM['Unnamed: 1'].str.contains('중구',na = False)]"
   ]
  },
  {
   "cell_type": "markdown",
   "id": "18efba62",
   "metadata": {},
   "source": [
    "중복값 제거"
   ]
  },
  {
   "cell_type": "code",
   "execution_count": 136,
   "id": "e42f4183",
   "metadata": {},
   "outputs": [],
   "source": [
    "PM2 = PM2.drop_duplicates()"
   ]
  },
  {
   "cell_type": "markdown",
   "id": "c2ed6d7b",
   "metadata": {},
   "source": [
    "원본 데이터 확인 시 서울의 중구가 가장 먼저 위치해있으므로, 중복값 중 첫번째 값 추출"
   ]
  },
  {
   "cell_type": "code",
   "execution_count": 137,
   "id": "993861a9",
   "metadata": {},
   "outputs": [],
   "source": [
    "PM2 = PM2.drop_duplicates(subset='Unnamed: 1',keep='first')"
   ]
  },
  {
   "cell_type": "markdown",
   "id": "c4783d13",
   "metadata": {},
   "source": [
    "서울시 25개의 구로 이루어진 데이터프레임 생성"
   ]
  },
  {
   "cell_type": "code",
   "execution_count": 138,
   "id": "c6694034",
   "metadata": {},
   "outputs": [],
   "source": [
    "PM_total = pd.concat([PM1, PM2])\n",
    "PM_total=PM_total.drop('Unnamed: 2', axis=1) "
   ]
  },
  {
   "cell_type": "markdown",
   "id": "64edf02b",
   "metadata": {},
   "source": [
    "컬럼명 재설정"
   ]
  },
  {
   "cell_type": "code",
   "execution_count": 139,
   "id": "36317602",
   "metadata": {},
   "outputs": [],
   "source": [
    "PM_total.columns = ['자치구별','합계_2017','합계_2018','합계_2019','합계_2020','합계_2021','2017_PM','2018_PM','2019_PM','2020_PM','2021_PM']"
   ]
  },
  {
   "cell_type": "markdown",
   "id": "225186c2",
   "metadata": {},
   "source": [
    "서울시 25개의 각 구별 전체 사고 건수의 총합계 열 생성"
   ]
  },
  {
   "cell_type": "code",
   "execution_count": 140,
   "id": "c036e87c",
   "metadata": {},
   "outputs": [],
   "source": [
    "PM_total['PM총합'] = PM_total[['2017_PM','2018_PM','2019_PM','2020_PM','2021_PM']].sum(axis=1)"
   ]
  },
  {
   "cell_type": "markdown",
   "id": "7319f10c",
   "metadata": {},
   "source": [
    "자치구별, 총합계 컬럼만 추출하여 데이터 프레임 설정"
   ]
  },
  {
   "cell_type": "code",
   "execution_count": 141,
   "id": "33984aaf",
   "metadata": {},
   "outputs": [],
   "source": [
    "PM_total = PM_total[['자치구별','PM총합']]"
   ]
  },
  {
   "cell_type": "markdown",
   "id": "45df1cbd",
   "metadata": {},
   "source": [
    "데이터프레임을 csv로 저장"
   ]
  },
  {
   "cell_type": "code",
   "execution_count": 142,
   "id": "ed1577e7",
   "metadata": {},
   "outputs": [],
   "source": [
    "PM_total.to_csv(\"d:/WorkSpace/프로젝트/week/data/PM_total.csv\")"
   ]
  }
 ],
 "metadata": {
  "kernelspec": {
   "display_name": "Python 3 (ipykernel)",
   "language": "python",
   "name": "python3"
  },
  "language_info": {
   "codemirror_mode": {
    "name": "ipython",
    "version": 3
   },
   "file_extension": ".py",
   "mimetype": "text/x-python",
   "name": "python",
   "nbconvert_exporter": "python",
   "pygments_lexer": "ipython3",
   "version": "3.9.13"
  }
 },
 "nbformat": 4,
 "nbformat_minor": 5
}
