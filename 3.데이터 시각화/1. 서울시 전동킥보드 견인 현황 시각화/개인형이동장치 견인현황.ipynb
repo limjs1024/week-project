{
 "cells": [
  {
   "cell_type": "markdown",
   "id": "B0m1BhrnnTx_",
   "metadata": {
    "id": "B0m1BhrnnTx_"
   },
   "source": [
    "# 개인형 이동장치 견인현황 시각화"
   ]
  },
  {
   "cell_type": "code",
   "execution_count": null,
   "id": "74fb19a6",
   "metadata": {
    "id": "74fb19a6"
   },
   "outputs": [],
   "source": [
    "import pandas as pd\n",
    "import numpy as np\n",
    "\n",
    "from IPython.core.interactiveshell import InteractiveShell\n",
    "InteractiveShell.ast_node_interactivity=\"all\""
   ]
  },
  {
   "cell_type": "code",
   "execution_count": null,
   "id": "87ce9059",
   "metadata": {
    "id": "87ce9059",
    "outputId": "44a1270f-86e6-4569-8cae-139cd1378fad"
   },
   "outputs": [
    {
     "name": "stderr",
     "output_type": "stream",
     "text": [
      "C:\\Users\\sspc\\AppData\\Local\\Temp\\ipykernel_46892\\1043788755.py:1: FutureWarning: The error_bad_lines argument has been deprecated and will be removed in a future version. Use on_bad_lines in the future.\n",
      "\n",
      "\n",
      "  tow = pd.read_csv('./data/서울특별시_전동킥보드_견인_현황_20220731 (2).csv',\n"
     ]
    },
    {
     "data": {
      "text/html": [
       "<div>\n",
       "<style scoped>\n",
       "    .dataframe tbody tr th:only-of-type {\n",
       "        vertical-align: middle;\n",
       "    }\n",
       "\n",
       "    .dataframe tbody tr th {\n",
       "        vertical-align: top;\n",
       "    }\n",
       "\n",
       "    .dataframe thead th {\n",
       "        text-align: right;\n",
       "    }\n",
       "</style>\n",
       "<table border=\"1\" class=\"dataframe\">\n",
       "  <thead>\n",
       "    <tr style=\"text-align: right;\">\n",
       "      <th></th>\n",
       "      <th>번호</th>\n",
       "      <th>신고일</th>\n",
       "      <th>구정보</th>\n",
       "      <th>주소</th>\n",
       "      <th>유형</th>\n",
       "      <th>조치일</th>\n",
       "    </tr>\n",
       "  </thead>\n",
       "  <tbody>\n",
       "    <tr>\n",
       "      <th>0</th>\n",
       "      <td>1</td>\n",
       "      <td>2021-07-15</td>\n",
       "      <td>동작구</td>\n",
       "      <td>서울특별시 동작구 상도동 215-45</td>\n",
       "      <td>점자블록, 엘리베이터 입구</td>\n",
       "      <td>2021-07-15</td>\n",
       "    </tr>\n",
       "    <tr>\n",
       "      <th>1</th>\n",
       "      <td>2</td>\n",
       "      <td>2021-07-15</td>\n",
       "      <td>동작구</td>\n",
       "      <td>서울특별시 동작구 상도동 172-28</td>\n",
       "      <td>보도 중앙</td>\n",
       "      <td>2021-07-15</td>\n",
       "    </tr>\n",
       "    <tr>\n",
       "      <th>2</th>\n",
       "      <td>3</td>\n",
       "      <td>2021-07-15</td>\n",
       "      <td>동작구</td>\n",
       "      <td>서울특별시 동작구 대방동 356-2</td>\n",
       "      <td>버스정류장, 택시 승강장</td>\n",
       "      <td>2021-07-15</td>\n",
       "    </tr>\n",
       "    <tr>\n",
       "      <th>3</th>\n",
       "      <td>4</td>\n",
       "      <td>2021-07-15</td>\n",
       "      <td>동작구</td>\n",
       "      <td>서울특별시 동작구 대방동 354-1</td>\n",
       "      <td>버스정류장, 택시 승강장</td>\n",
       "      <td>2021-07-15</td>\n",
       "    </tr>\n",
       "    <tr>\n",
       "      <th>4</th>\n",
       "      <td>5</td>\n",
       "      <td>2021-07-15</td>\n",
       "      <td>동작구</td>\n",
       "      <td>서울특별시 동작구 신대방동 460-30</td>\n",
       "      <td>보도와 차도가 구분된 도로의 차도</td>\n",
       "      <td>2021-07-15</td>\n",
       "    </tr>\n",
       "    <tr>\n",
       "      <th>...</th>\n",
       "      <td>...</td>\n",
       "      <td>...</td>\n",
       "      <td>...</td>\n",
       "      <td>...</td>\n",
       "      <td>...</td>\n",
       "      <td>...</td>\n",
       "    </tr>\n",
       "    <tr>\n",
       "      <th>60600</th>\n",
       "      <td>60601</td>\n",
       "      <td>2022-07-29</td>\n",
       "      <td>동작구</td>\n",
       "      <td>서울특별시 동작구 사당동 708-1025</td>\n",
       "      <td>보도와 차도가 구분된 도로의 차도</td>\n",
       "      <td>2022-07-29</td>\n",
       "    </tr>\n",
       "    <tr>\n",
       "      <th>60601</th>\n",
       "      <td>60602</td>\n",
       "      <td>2022-07-29</td>\n",
       "      <td>관악구</td>\n",
       "      <td>서울특별시 관악구 봉천동 1693-55</td>\n",
       "      <td>보도와 차도가 구분된 도로의 차도</td>\n",
       "      <td>2022-07-29</td>\n",
       "    </tr>\n",
       "    <tr>\n",
       "      <th>60602</th>\n",
       "      <td>60603</td>\n",
       "      <td>2022-07-29</td>\n",
       "      <td>동작구</td>\n",
       "      <td>서울특별시 동작구 사당동 175-56</td>\n",
       "      <td>보도와 차도가 구분된 도로의 차도</td>\n",
       "      <td>2022-07-29</td>\n",
       "    </tr>\n",
       "    <tr>\n",
       "      <th>60603</th>\n",
       "      <td>60604</td>\n",
       "      <td>2022-07-29</td>\n",
       "      <td>동작구</td>\n",
       "      <td>서울특별시 동작구 사당동 175-26</td>\n",
       "      <td>보도와 차도가 구분된 도로의 차도</td>\n",
       "      <td>2022-07-29</td>\n",
       "    </tr>\n",
       "    <tr>\n",
       "      <th>60604</th>\n",
       "      <td>60605</td>\n",
       "      <td>2022-07-29</td>\n",
       "      <td>중랑구</td>\n",
       "      <td>서울특별시 중랑구 면목동 197-10</td>\n",
       "      <td>보도와 차도가 구분된 도로의 차도</td>\n",
       "      <td>2022-07-29</td>\n",
       "    </tr>\n",
       "  </tbody>\n",
       "</table>\n",
       "<p>60605 rows × 6 columns</p>\n",
       "</div>"
      ],
      "text/plain": [
       "          번호         신고일  구정보                      주소                  유형  \\\n",
       "0          1  2021-07-15  동작구    서울특별시 동작구 상도동 215-45      점자블록, 엘리베이터 입구   \n",
       "1          2  2021-07-15  동작구    서울특별시 동작구 상도동 172-28               보도 중앙   \n",
       "2          3  2021-07-15  동작구     서울특별시 동작구 대방동 356-2       버스정류장, 택시 승강장   \n",
       "3          4  2021-07-15  동작구     서울특별시 동작구 대방동 354-1       버스정류장, 택시 승강장   \n",
       "4          5  2021-07-15  동작구   서울특별시 동작구 신대방동 460-30  보도와 차도가 구분된 도로의 차도   \n",
       "...      ...         ...  ...                     ...                 ...   \n",
       "60600  60601  2022-07-29  동작구  서울특별시 동작구 사당동 708-1025  보도와 차도가 구분된 도로의 차도   \n",
       "60601  60602  2022-07-29  관악구   서울특별시 관악구 봉천동 1693-55  보도와 차도가 구분된 도로의 차도   \n",
       "60602  60603  2022-07-29  동작구    서울특별시 동작구 사당동 175-56  보도와 차도가 구분된 도로의 차도   \n",
       "60603  60604  2022-07-29  동작구    서울특별시 동작구 사당동 175-26  보도와 차도가 구분된 도로의 차도   \n",
       "60604  60605  2022-07-29  중랑구    서울특별시 중랑구 면목동 197-10  보도와 차도가 구분된 도로의 차도   \n",
       "\n",
       "              조치일  \n",
       "0      2021-07-15  \n",
       "1      2021-07-15  \n",
       "2      2021-07-15  \n",
       "3      2021-07-15  \n",
       "4      2021-07-15  \n",
       "...           ...  \n",
       "60600  2022-07-29  \n",
       "60601  2022-07-29  \n",
       "60602  2022-07-29  \n",
       "60603  2022-07-29  \n",
       "60604  2022-07-29  \n",
       "\n",
       "[60605 rows x 6 columns]"
      ]
     },
     "execution_count": 2,
     "metadata": {},
     "output_type": "execute_result"
    }
   ],
   "source": [
    "tow = pd.read_csv('./data/서울특별시_전동킥보드_견인_현황_20220731 (2).csv', \n",
    "                    engine='python', encoding='cp949', error_bad_lines=False)\n",
    "tow"
   ]
  },
  {
   "cell_type": "code",
   "execution_count": null,
   "id": "86a47db7",
   "metadata": {
    "id": "86a47db7",
    "outputId": "4c238931-6ffe-4a98-cb62-dbdd1c315de3"
   },
   "outputs": [
    {
     "data": {
      "text/plain": [
       "array(['점자블록, 엘리베이터 입구', '보도 중앙', '버스정류장, 택시 승강장', '보도와 차도가 구분된 도로의 차도',\n",
       "       '기타', '횡단보도, 산책로 등', '건물, 상가 보행자 진출입', '소방시설 5m 이내 구역',\n",
       "       '육교위, 지하보차도 안', '자전거 도로', '지하철역 진출입로 및 주변', '오신고', '턱을 낮춘 진출입로',\n",
       "       nan, '통행제한 구간', '계단, 난간'], dtype=object)"
      ]
     },
     "execution_count": 4,
     "metadata": {},
     "output_type": "execute_result"
    }
   ],
   "source": [
    "tow.유형.unique()"
   ]
  },
  {
   "cell_type": "code",
   "execution_count": null,
   "id": "1c82329a",
   "metadata": {
    "id": "1c82329a"
   },
   "outputs": [],
   "source": [
    "tow.replace('보도와 차도가 구분된 도로의 차도','보행자와 차량이 분리된 차도 및 자전거도로', inplace=True)\n",
    "tow.replace('자전거 도로','보행자와 차량이 분리된 차도 및 자전거도로', inplace=True)\n",
    "tow.replace('지하철역 진출입로 및 주변','지하철역 출구 전면 5M', inplace=True)\n",
    "tow.replace('버스정류장, 택시 승강장','버스정류소 전면 5M', inplace=True)\n",
    "tow.replace('점자블록, 엘리베이터 입구','점자블럭 및 교통섬 위', inplace=True)\n",
    "tow.replace('횡단보도, 산책로 등','횡단보도 전후 3M', inplace=True)\n",
    "tow.replace('건물, 상가 보행자 진출입','그 외 주차 금지 구역', inplace=True)\n",
    "tow.replace('계단, 난간','그 외 주차 금지 구역', inplace=True)\n",
    "tow.replace('기타','그 외 주차 금지 구역', inplace=True)\n",
    "tow.replace('보도 중앙','그 외 주차 금지 구역', inplace=True)\n",
    "tow.replace('육교위, 지하보차도 안','그 외 주차 금지 구역', inplace=True)\n",
    "tow.replace('소방시설 5m 이내 구역','그 외 주차 금지 구역', inplace=True)\n",
    "tow.replace('턱을 낮춘 진출입로','그 외 주차 금지 구역', inplace=True)\n",
    "tow.replace('통행제한 구간','그 외 주차 금지 구역', inplace=True)"
   ]
  },
  {
   "cell_type": "code",
   "execution_count": null,
   "id": "3833e8c1",
   "metadata": {
    "id": "3833e8c1",
    "outputId": "d4e36ea7-cc8c-4bc6-ec10-1ea63d43582f"
   },
   "outputs": [
    {
     "data": {
      "text/plain": [
       "1"
      ]
     },
     "execution_count": 6,
     "metadata": {},
     "output_type": "execute_result"
    }
   ],
   "source": [
    "tow.유형.isnull().sum()\n",
    "# tow[tow.유형.isnull()]"
   ]
  },
  {
   "cell_type": "code",
   "execution_count": null,
   "id": "1111cd3d",
   "metadata": {
    "id": "1111cd3d"
   },
   "outputs": [],
   "source": [
    "tow = tow.dropna(axis=0)"
   ]
  },
  {
   "cell_type": "code",
   "execution_count": null,
   "id": "3rSmavv1t8LU",
   "metadata": {
    "id": "3rSmavv1t8LU"
   },
   "outputs": [],
   "source": []
  },
  {
   "cell_type": "code",
   "execution_count": null,
   "id": "b8625342",
   "metadata": {
    "id": "b8625342",
    "outputId": "7c714bd4-dab3-4ef9-91c6-2f8fe6aebe8a"
   },
   "outputs": [
    {
     "data": {
      "text/plain": [
       "array(['점자블럭 및 교통섬 위', '그 외 주차 금지 구역', '버스정류소 전면 5M',\n",
       "       '보행자와 차량이 분리된 차도 및 자전거도로', '횡단보도 전후 3M', '지하철역 출구 전면 5M'],\n",
       "      dtype=object)"
      ]
     },
     "execution_count": 8,
     "metadata": {},
     "output_type": "execute_result"
    }
   ],
   "source": [
    "tow = tow[(tow['유형'] != '오신고')]\n",
    "tow.유형.unique()"
   ]
  },
  {
   "cell_type": "code",
   "execution_count": null,
   "id": "e5a4be74",
   "metadata": {
    "id": "e5a4be74"
   },
   "outputs": [],
   "source": [
    "# from pandas.core.frame import AggFuncType\n",
    "\n",
    "# tow_table = pd.pivot_table(tow, \n",
    "#                          values='유형',\n",
    "#                          aggfunc={'유형':'count'})\n",
    "# area_table"
   ]
  },
  {
   "cell_type": "code",
   "execution_count": null,
   "id": "b37c711b",
   "metadata": {
    "id": "b37c711b",
    "outputId": "1166f543-59e8-4eaa-dad0-405d9c6eb7ba"
   },
   "outputs": [
    {
     "data": {
      "text/html": [
       "<div>\n",
       "<style scoped>\n",
       "    .dataframe tbody tr th:only-of-type {\n",
       "        vertical-align: middle;\n",
       "    }\n",
       "\n",
       "    .dataframe tbody tr th {\n",
       "        vertical-align: top;\n",
       "    }\n",
       "\n",
       "    .dataframe thead th {\n",
       "        text-align: right;\n",
       "    }\n",
       "</style>\n",
       "<table border=\"1\" class=\"dataframe\">\n",
       "  <thead>\n",
       "    <tr style=\"text-align: right;\">\n",
       "      <th></th>\n",
       "      <th>번호</th>\n",
       "      <th>유형</th>\n",
       "    </tr>\n",
       "  </thead>\n",
       "  <tbody>\n",
       "    <tr>\n",
       "      <th>0</th>\n",
       "      <td>1</td>\n",
       "      <td>점자블럭 및 교통섬 위</td>\n",
       "    </tr>\n",
       "    <tr>\n",
       "      <th>1</th>\n",
       "      <td>2</td>\n",
       "      <td>그 외 주차 금지 구역</td>\n",
       "    </tr>\n",
       "    <tr>\n",
       "      <th>2</th>\n",
       "      <td>3</td>\n",
       "      <td>버스정류소 전면 5M</td>\n",
       "    </tr>\n",
       "    <tr>\n",
       "      <th>3</th>\n",
       "      <td>4</td>\n",
       "      <td>버스정류소 전면 5M</td>\n",
       "    </tr>\n",
       "    <tr>\n",
       "      <th>4</th>\n",
       "      <td>5</td>\n",
       "      <td>보행자와 차량이 분리된 차도 및 자전거도로</td>\n",
       "    </tr>\n",
       "    <tr>\n",
       "      <th>...</th>\n",
       "      <td>...</td>\n",
       "      <td>...</td>\n",
       "    </tr>\n",
       "    <tr>\n",
       "      <th>60600</th>\n",
       "      <td>60601</td>\n",
       "      <td>보행자와 차량이 분리된 차도 및 자전거도로</td>\n",
       "    </tr>\n",
       "    <tr>\n",
       "      <th>60601</th>\n",
       "      <td>60602</td>\n",
       "      <td>보행자와 차량이 분리된 차도 및 자전거도로</td>\n",
       "    </tr>\n",
       "    <tr>\n",
       "      <th>60602</th>\n",
       "      <td>60603</td>\n",
       "      <td>보행자와 차량이 분리된 차도 및 자전거도로</td>\n",
       "    </tr>\n",
       "    <tr>\n",
       "      <th>60603</th>\n",
       "      <td>60604</td>\n",
       "      <td>보행자와 차량이 분리된 차도 및 자전거도로</td>\n",
       "    </tr>\n",
       "    <tr>\n",
       "      <th>60604</th>\n",
       "      <td>60605</td>\n",
       "      <td>보행자와 차량이 분리된 차도 및 자전거도로</td>\n",
       "    </tr>\n",
       "  </tbody>\n",
       "</table>\n",
       "<p>60556 rows × 2 columns</p>\n",
       "</div>"
      ],
      "text/plain": [
       "          번호                       유형\n",
       "0          1             점자블럭 및 교통섬 위\n",
       "1          2             그 외 주차 금지 구역\n",
       "2          3              버스정류소 전면 5M\n",
       "3          4              버스정류소 전면 5M\n",
       "4          5  보행자와 차량이 분리된 차도 및 자전거도로\n",
       "...      ...                      ...\n",
       "60600  60601  보행자와 차량이 분리된 차도 및 자전거도로\n",
       "60601  60602  보행자와 차량이 분리된 차도 및 자전거도로\n",
       "60602  60603  보행자와 차량이 분리된 차도 및 자전거도로\n",
       "60603  60604  보행자와 차량이 분리된 차도 및 자전거도로\n",
       "60604  60605  보행자와 차량이 분리된 차도 및 자전거도로\n",
       "\n",
       "[60556 rows x 2 columns]"
      ]
     },
     "execution_count": 10,
     "metadata": {},
     "output_type": "execute_result"
    }
   ],
   "source": [
    "tow = tow[['번호','유형']]\n",
    "tow"
   ]
  },
  {
   "cell_type": "code",
   "execution_count": null,
   "id": "a51e437b",
   "metadata": {
    "id": "a51e437b",
    "outputId": "104d147c-cf4e-42d1-8582-fc2a88596435",
    "scrolled": true
   },
   "outputs": [
    {
     "data": {
      "text/plain": [
       "보행자와 차량이 분리된 차도 및 자전거도로    30326\n",
       "횡단보도 전후 3M                  9819\n",
       "버스정류소 전면 5M                 8198\n",
       "점자블럭 및 교통섬 위                4496\n",
       "그 외 주차 금지 구역                4135\n",
       "지하철역 출구 전면 5M               3582\n",
       "Name: 유형, dtype: int64"
      ]
     },
     "execution_count": 11,
     "metadata": {},
     "output_type": "execute_result"
    }
   ],
   "source": [
    "tow.유형.value_counts()"
   ]
  },
  {
   "cell_type": "code",
   "execution_count": null,
   "id": "92a89b1c",
   "metadata": {
    "id": "92a89b1c",
    "outputId": "99ff67e8-9d2d-4ddb-b87a-eac0791a4461"
   },
   "outputs": [
    {
     "data": {
      "text/html": [
       "<div>\n",
       "<style scoped>\n",
       "    .dataframe tbody tr th:only-of-type {\n",
       "        vertical-align: middle;\n",
       "    }\n",
       "\n",
       "    .dataframe tbody tr th {\n",
       "        vertical-align: top;\n",
       "    }\n",
       "\n",
       "    .dataframe thead th {\n",
       "        text-align: right;\n",
       "    }\n",
       "</style>\n",
       "<table border=\"1\" class=\"dataframe\">\n",
       "  <thead>\n",
       "    <tr style=\"text-align: right;\">\n",
       "      <th></th>\n",
       "      <th>유형</th>\n",
       "    </tr>\n",
       "    <tr>\n",
       "      <th>유형</th>\n",
       "      <th></th>\n",
       "    </tr>\n",
       "  </thead>\n",
       "  <tbody>\n",
       "    <tr>\n",
       "      <th>그 외 주차 금지 구역</th>\n",
       "      <td>4135</td>\n",
       "    </tr>\n",
       "    <tr>\n",
       "      <th>버스정류소 전면 5M</th>\n",
       "      <td>8198</td>\n",
       "    </tr>\n",
       "    <tr>\n",
       "      <th>보행자와 차량이 분리된 차도 및 자전거도로</th>\n",
       "      <td>30326</td>\n",
       "    </tr>\n",
       "    <tr>\n",
       "      <th>점자블럭 및 교통섬 위</th>\n",
       "      <td>4496</td>\n",
       "    </tr>\n",
       "    <tr>\n",
       "      <th>지하철역 출구 전면 5M</th>\n",
       "      <td>3582</td>\n",
       "    </tr>\n",
       "    <tr>\n",
       "      <th>횡단보도 전후 3M</th>\n",
       "      <td>9819</td>\n",
       "    </tr>\n",
       "  </tbody>\n",
       "</table>\n",
       "</div>"
      ],
      "text/plain": [
       "                            유형\n",
       "유형                            \n",
       "그 외 주차 금지 구역              4135\n",
       "버스정류소 전면 5M               8198\n",
       "보행자와 차량이 분리된 차도 및 자전거도로  30326\n",
       "점자블럭 및 교통섬 위              4496\n",
       "지하철역 출구 전면 5M             3582\n",
       "횡단보도 전후 3M                9819"
      ]
     },
     "execution_count": 12,
     "metadata": {},
     "output_type": "execute_result"
    }
   ],
   "source": [
    "tow1 = pd.pivot_table(tow, values='번호', index=['유형'],\n",
    "                    aggfunc={'유형':'count'})\n",
    "tow1"
   ]
  },
  {
   "cell_type": "markdown",
   "id": "2e5fe2e7",
   "metadata": {
    "id": "2e5fe2e7"
   },
   "source": [
    "# 개인형이동장치 견인 구역 시각화"
   ]
  },
  {
   "cell_type": "code",
   "execution_count": null,
   "id": "4f807701",
   "metadata": {
    "id": "4f807701"
   },
   "outputs": [],
   "source": [
    "# 그래프에서 한글폰트 지원\n",
    "import matplotlib.pyplot as plt\n",
    "import platform\n",
    "\n",
    "from matplotlib import font_manager, rc\n",
    "plt.rcParams['axes.unicode_minus'] = False\n",
    "\n",
    "if platform.system() == 'Darwin':  # 맥OS \n",
    "    rc('font', family='AppleGothic')\n",
    "elif platform.system() == 'Windows':  # 윈도우\n",
    "    path = \"c:/Windows/Fonts/malgun.ttf\"\n",
    "    font_name = font_manager.FontProperties(fname=path).get_name()\n",
    "    rc('font', family=font_name)\n",
    "else:\n",
    "    print('Unknown system...  sorry~~~')"
   ]
  },
  {
   "cell_type": "code",
   "execution_count": null,
   "id": "14244536",
   "metadata": {
    "id": "14244536",
    "outputId": "4fc5e10c-4d83-43f1-ced1-feaacd8285b0"
   },
   "outputs": [
    {
     "data": {
      "text/plain": [
       "<AxesSubplot:xlabel='유형'>"
      ]
     },
     "execution_count": 33,
     "metadata": {},
     "output_type": "execute_result"
    },
    {
     "data": {
      "text/plain": [
       "(array([0, 1, 2, 3, 4, 5]),\n",
       " [Text(0, 0, '그 외 주차 금지 구역'),\n",
       "  Text(1, 0, '버스정류소 전면 5M'),\n",
       "  Text(2, 0, '보행자와 차량이 분리된 차도 및 자전거도로'),\n",
       "  Text(3, 0, '점자블럭 및 교통섬 위'),\n",
       "  Text(4, 0, '지하철역 출구 전면 5M'),\n",
       "  Text(5, 0, '횡단보도 전후 3M')])"
      ]
     },
     "execution_count": 33,
     "metadata": {},
     "output_type": "execute_result"
    },
    {
     "data": {
      "text/plain": [
       "Text(0.5, 1.0, ' 견인 구역에 따른 개인형 이동장치 견인 건수')"
      ]
     },
     "execution_count": 33,
     "metadata": {},
     "output_type": "execute_result"
    },
    {
     "data": {
      "text/plain": [
       "Text(0.5, 0, '견인 구역 유형')"
      ]
     },
     "execution_count": 33,
     "metadata": {},
     "output_type": "execute_result"
    },
    {
     "data": {
      "text/plain": [
       "Text(0, 0.5, '견인건수')"
      ]
     },
     "execution_count": 33,
     "metadata": {},
     "output_type": "execute_result"
    },
    {
     "data": {
      "image/png": "[encoded data removed]",
      "text/plain": [
       "<Figure size 1500x800 with 1 Axes>"
      ]
     },
     "metadata": {},
     "output_type": "display_data"
    }
   ],
   "source": [
    "tow1.plot.bar(figsize=(15,8))\n",
    "plt.xticks(rotation=0, fontsize=8)\n",
    "\n",
    "plt.title(' 견인 구역에 따른 개인형 이동장치 견인 건수', fontsize=20)\n",
    "\n",
    "plt.xlabel('견인 구역 유형', fontsize=10)\n",
    "\n",
    "plt.ylabel('견인건수', fontsize=10)"
   ]
  }
 ],
 "metadata": {
  "colab": {
   "provenance": []
  },
  "kernelspec": {
   "display_name": "Python 3 (ipykernel)",
   "language": "python",
   "name": "python3"
  },
  "language_info": {
   "codemirror_mode": {
    "name": "ipython",
    "version": 3
   },
   "file_extension": ".py",
   "mimetype": "text/x-python",
   "name": "python",
   "nbconvert_exporter": "python",
   "pygments_lexer": "ipython3",
   "version": "3.9.12"
  }
 },
 "nbformat": 4,
 "nbformat_minor": 5
}
