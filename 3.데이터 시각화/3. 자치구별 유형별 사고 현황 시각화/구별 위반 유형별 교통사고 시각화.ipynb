{
 "cells": [
  {
   "cell_type": "code",
   "execution_count": 1,
   "id": "762531b3",
   "metadata": {},
   "outputs": [],
   "source": [
    "import csv\n",
    "import pandas as pd\n",
    "import matplotlib.pyplot as plt \n",
    "import platform\n",
    "\n",
    "from matplotlib import font_manager, rc\n",
    "plt.rcParams['axes.unicode_minus'] = False\n",
    "\n",
    "if platform.system() == 'Darwin':  # 맥OS \n",
    "    rc('font', family='AppleGothic')\n",
    "elif platform.system() == 'Windows':  # 윈도우\n",
    "    path = \"c:/Windows/Fonts/malgun.ttf\"\n",
    "    font_name = font_manager.FontProperties(fname=path).get_name()\n",
    "    rc('font', family=font_name)\n",
    "else:\n",
    "    print('Unknown system...  sorry~~~')\n"
   ]
  },
  {
   "cell_type": "code",
   "execution_count": 1,
   "id": "40e6a84a",
   "metadata": {},
   "outputs": [],
   "source": [
    "def select_gu(gu):\n",
    "    acd1 =  pd.read_csv('data/위반유형별 교통사고 전처리 데이터.csv',encoding = 'cp949')\n",
    "    acd1=acd1.drop('Unnamed: 0', axis=1)\n",
    "    acd1 = acd1[acd1['지자체'] == gu]\n",
    "    acd1=acd1.drop('지자체', axis=1)\n",
    "    acd1 = acd1.sort_values(by=['발생건수'], ascending=True)\n",
    "    plt.figure(figsize=(10,10))\n",
    "    plt.title(f'{title} 위반유형별 교통사고')\n",
    "    plt.xlabel('발생건수')\n",
    "    plt.ylabel('위반유형')\n",
    "    plt.barh(acd1['위반유형'], acd1['발생건수'])\n",
    "    plt.show()"
   ]
  }
 ],
 "metadata": {
  "kernelspec": {
   "display_name": "Python 3 (ipykernel)",
   "language": "python",
   "name": "python3"
  },
  "language_info": {
   "codemirror_mode": {
    "name": "ipython",
    "version": 3
   },
   "file_extension": ".py",
   "mimetype": "text/x-python",
   "name": "python",
   "nbconvert_exporter": "python",
   "pygments_lexer": "ipython3",
   "version": "3.9.12"
  }
 },
 "nbformat": 4,
 "nbformat_minor": 5
}
